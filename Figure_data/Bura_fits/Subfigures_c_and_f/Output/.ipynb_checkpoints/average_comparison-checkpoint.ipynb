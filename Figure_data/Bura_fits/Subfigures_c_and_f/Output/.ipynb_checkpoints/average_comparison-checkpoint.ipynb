{
 "cells": [
  {
   "cell_type": "code",
   "execution_count": 1,
   "metadata": {},
   "outputs": [],
   "source": [
    "import numpy as np\n",
    "import matplotlib.pyplot as plt\n",
    "from qtbplot import plotting_context\n",
    "import sys\n",
    "import os.path\n",
    "import random"
   ]
  },
  {
   "cell_type": "code",
   "execution_count": null,
   "metadata": {},
   "outputs": [],
   "source": [
    "N_data = 10\n",
    "rms = 0\n",
    "\n",
    "all_root_mean_square_erros = {}\n",
    "averaged_set = np.loadtxt(\"../mean_saccharification_medium.txt\")\n",
    "times = averaged_set[:,0]\n",
    "for i in range(N_data):\n",
    "    data = \"saccharification/saccharification_medium_\" + str(i+1) + \".txt\"\n",
    "    plt.plot(data[:,0],data[:,1])\n",
    "plt.show()\n"
   ]
  }
 ],
 "metadata": {
  "kernelspec": {
   "display_name": "Python 3",
   "language": "python",
   "name": "python3"
  },
  "language_info": {
   "codemirror_mode": {
    "name": "ipython",
    "version": 3
   },
   "file_extension": ".py",
   "mimetype": "text/x-python",
   "name": "python",
   "nbconvert_exporter": "python",
   "pygments_lexer": "ipython3",
   "version": "3.6.9"
  }
 },
 "nbformat": 4,
 "nbformat_minor": 4
}
